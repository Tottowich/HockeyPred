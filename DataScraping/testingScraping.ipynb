{
 "cells": [
  {
   "cell_type": "code",
   "execution_count": 117,
   "metadata": {},
   "outputs": [],
   "source": [
    "from utils import *\n",
    "import pandas as pd\n",
    "from representations import *\n",
    "# This link: https://www.hockey-reference.com/leagues/ has a list of all seasons played in the NHL"
   ]
  },
  {
   "cell_type": "code",
   "execution_count": 120,
   "metadata": {},
   "outputs": [
    {
     "name": "stdout",
     "output_type": "stream",
     "text": [
      "Found 1311 games\n"
     ]
    },
    {
     "ename": "KeyError",
     "evalue": "'Visitors'",
     "output_type": "error",
     "traceback": [
      "\u001b[0;31m---------------------------------------------------------------------------\u001b[0m",
      "\u001b[0;31mKeyError\u001b[0m                                  Traceback (most recent call last)",
      "File \u001b[0;32m~/GithubProjects/Hockeypred/venv/lib/python3.9/site-packages/pandas/core/indexes/base.py:3803\u001b[0m, in \u001b[0;36mIndex.get_loc\u001b[0;34m(self, key, method, tolerance)\u001b[0m\n\u001b[1;32m   3802\u001b[0m \u001b[39mtry\u001b[39;00m:\n\u001b[0;32m-> 3803\u001b[0m     \u001b[39mreturn\u001b[39;00m \u001b[39mself\u001b[39;49m\u001b[39m.\u001b[39;49m_engine\u001b[39m.\u001b[39;49mget_loc(casted_key)\n\u001b[1;32m   3804\u001b[0m \u001b[39mexcept\u001b[39;00m \u001b[39mKeyError\u001b[39;00m \u001b[39mas\u001b[39;00m err:\n",
      "File \u001b[0;32m~/GithubProjects/Hockeypred/venv/lib/python3.9/site-packages/pandas/_libs/index.pyx:138\u001b[0m, in \u001b[0;36mpandas._libs.index.IndexEngine.get_loc\u001b[0;34m()\u001b[0m\n",
      "File \u001b[0;32m~/GithubProjects/Hockeypred/venv/lib/python3.9/site-packages/pandas/_libs/index.pyx:165\u001b[0m, in \u001b[0;36mpandas._libs.index.IndexEngine.get_loc\u001b[0;34m()\u001b[0m\n",
      "File \u001b[0;32mpandas/_libs/hashtable_class_helper.pxi:5745\u001b[0m, in \u001b[0;36mpandas._libs.hashtable.PyObjectHashTable.get_item\u001b[0;34m()\u001b[0m\n",
      "File \u001b[0;32mpandas/_libs/hashtable_class_helper.pxi:5753\u001b[0m, in \u001b[0;36mpandas._libs.hashtable.PyObjectHashTable.get_item\u001b[0;34m()\u001b[0m\n",
      "\u001b[0;31mKeyError\u001b[0m: 'Visitors'",
      "\nThe above exception was the direct cause of the following exception:\n",
      "\u001b[0;31mKeyError\u001b[0m                                  Traceback (most recent call last)",
      "Cell \u001b[0;32mIn[120], line 13\u001b[0m\n\u001b[1;32m     10\u001b[0m \u001b[39m# Sort the seasons\u001b[39;00m\n\u001b[1;32m     11\u001b[0m seasons\u001b[39m.\u001b[39msort()\n\u001b[0;32m---> 13\u001b[0m web_season \u001b[39m=\u001b[39m WebSeason(\u001b[39m\"\u001b[39;49m\u001b[39mhttps://www.hockey-reference.com\u001b[39;49m\u001b[39m\"\u001b[39;49m\u001b[39m+\u001b[39;49mseasons[\u001b[39m-\u001b[39;49m\u001b[39m1\u001b[39;49m],verbose\u001b[39m=\u001b[39;49m\u001b[39mTrue\u001b[39;49;00m)\n",
      "File \u001b[0;32m~/GithubProjects/Hockeypred/DataScraping/representations.py:140\u001b[0m, in \u001b[0;36mWebSeason.__init__\u001b[0;34m(self, url, verbose)\u001b[0m\n\u001b[1;32m    138\u001b[0m \u001b[39mself\u001b[39m\u001b[39m.\u001b[39m_get_team_names()\n\u001b[1;32m    139\u001b[0m \u001b[39mself\u001b[39m\u001b[39m.\u001b[39m_get_games()\n\u001b[0;32m--> 140\u001b[0m \u001b[39mself\u001b[39;49m\u001b[39m.\u001b[39;49m_get_game_stats()\n",
      "File \u001b[0;32m~/GithubProjects/Hockeypred/DataScraping/representations.py:163\u001b[0m, in \u001b[0;36mWebSeason._get_game_stats\u001b[0;34m(self)\u001b[0m\n\u001b[1;32m    161\u001b[0m \u001b[39mdef\u001b[39;00m \u001b[39m_get_game_stats\u001b[39m(\u001b[39mself\u001b[39m):\n\u001b[1;32m    162\u001b[0m     \u001b[39m# Get the stats of all the games\u001b[39;00m\n\u001b[0;32m--> 163\u001b[0m     \u001b[39mfor\u001b[39;00m game_link,away_team,home_team \u001b[39min\u001b[39;00m \u001b[39mzip\u001b[39m(\u001b[39mself\u001b[39m\u001b[39m.\u001b[39m_game_links,\u001b[39mself\u001b[39;49m\u001b[39m.\u001b[39;49m_game_table[\u001b[39m\"\u001b[39;49m\u001b[39mVisitors\u001b[39;49m\u001b[39m\"\u001b[39;49m]\u001b[39m.\u001b[39mvalues,\u001b[39mself\u001b[39m\u001b[39m.\u001b[39m_game_table[\u001b[39m\"\u001b[39m\u001b[39mHome\u001b[39m\u001b[39m\"\u001b[39m]\u001b[39m.\u001b[39mvalues):\n\u001b[1;32m    164\u001b[0m         \u001b[39mself\u001b[39m\u001b[39m.\u001b[39mgames\u001b[39m.\u001b[39mappend(WebGame(game_link,home_team,away_team,verbose\u001b[39m=\u001b[39m\u001b[39mself\u001b[39m\u001b[39m.\u001b[39mverbose))\n\u001b[1;32m    165\u001b[0m         \u001b[39mif\u001b[39;00m \u001b[39mself\u001b[39m\u001b[39m.\u001b[39mverbose:\n",
      "File \u001b[0;32m~/GithubProjects/Hockeypred/venv/lib/python3.9/site-packages/pandas/core/frame.py:3805\u001b[0m, in \u001b[0;36mDataFrame.__getitem__\u001b[0;34m(self, key)\u001b[0m\n\u001b[1;32m   3803\u001b[0m \u001b[39mif\u001b[39;00m \u001b[39mself\u001b[39m\u001b[39m.\u001b[39mcolumns\u001b[39m.\u001b[39mnlevels \u001b[39m>\u001b[39m \u001b[39m1\u001b[39m:\n\u001b[1;32m   3804\u001b[0m     \u001b[39mreturn\u001b[39;00m \u001b[39mself\u001b[39m\u001b[39m.\u001b[39m_getitem_multilevel(key)\n\u001b[0;32m-> 3805\u001b[0m indexer \u001b[39m=\u001b[39m \u001b[39mself\u001b[39;49m\u001b[39m.\u001b[39;49mcolumns\u001b[39m.\u001b[39;49mget_loc(key)\n\u001b[1;32m   3806\u001b[0m \u001b[39mif\u001b[39;00m is_integer(indexer):\n\u001b[1;32m   3807\u001b[0m     indexer \u001b[39m=\u001b[39m [indexer]\n",
      "File \u001b[0;32m~/GithubProjects/Hockeypred/venv/lib/python3.9/site-packages/pandas/core/indexes/base.py:3805\u001b[0m, in \u001b[0;36mIndex.get_loc\u001b[0;34m(self, key, method, tolerance)\u001b[0m\n\u001b[1;32m   3803\u001b[0m     \u001b[39mreturn\u001b[39;00m \u001b[39mself\u001b[39m\u001b[39m.\u001b[39m_engine\u001b[39m.\u001b[39mget_loc(casted_key)\n\u001b[1;32m   3804\u001b[0m \u001b[39mexcept\u001b[39;00m \u001b[39mKeyError\u001b[39;00m \u001b[39mas\u001b[39;00m err:\n\u001b[0;32m-> 3805\u001b[0m     \u001b[39mraise\u001b[39;00m \u001b[39mKeyError\u001b[39;00m(key) \u001b[39mfrom\u001b[39;00m \u001b[39merr\u001b[39;00m\n\u001b[1;32m   3806\u001b[0m \u001b[39mexcept\u001b[39;00m \u001b[39mTypeError\u001b[39;00m:\n\u001b[1;32m   3807\u001b[0m     \u001b[39m# If we have a listlike key, _check_indexing_error will raise\u001b[39;00m\n\u001b[1;32m   3808\u001b[0m     \u001b[39m#  InvalidIndexError. Otherwise we fall through and re-raise\u001b[39;00m\n\u001b[1;32m   3809\u001b[0m     \u001b[39m#  the TypeError.\u001b[39;00m\n\u001b[1;32m   3810\u001b[0m     \u001b[39mself\u001b[39m\u001b[39m.\u001b[39m_check_indexing_error(key)\n",
      "\u001b[0;31mKeyError\u001b[0m: 'Visitors'"
     ]
    }
   ],
   "source": [
    "main_page = \"https://www.hockey-reference.com/leagues/\"\n",
    "# Get the soup\n",
    "soup = get_soup(main_page)\n",
    "# Get all the links in the soup\n",
    "links = get_all_links(soup)\n",
    "# Get the links that are seasons\n",
    "seasons = [link for link in links if \"/leagues/NHL_\"in link and link.split(\"_\")[-1].split(\".\")[0].isnumeric()]\n",
    "# Remove duplicates\n",
    "seasons = list(set(seasons))\n",
    "# Sort the seasons\n",
    "seasons.sort()\n",
    "\n",
    "web_season = WebSeason(\"https://www.hockey-reference.com\"+seasons[-1],verbose=True)\n",
    "\n"
   ]
  },
  {
   "cell_type": "code",
   "execution_count": null,
   "metadata": {},
   "outputs": [],
   "source": [
    "# Get the soup for the first season\n",
    "soup = get_soup(main_page+seasons[0])\n",
    "a = soup.find('table',id='expanded_standings')\n"
   ]
  },
  {
   "cell_type": "code",
   "execution_count": null,
   "metadata": {},
   "outputs": [],
   "source": [
    "# Get table from link\n",
    "# table_link = \"https://www.hockey-reference.com/leagues/NHL_1926_standings.html#expanded_standings\" # Expanded standings table\n",
    "table_link = 'https://www.hockey-reference.com/leagues/NHL_2022_games.html#games' # All games of the season\n",
    "# Using pandas to read the table\n",
    "df = pd.read_html(table_link)\n",
    "print(f\"Number of tables: {len(df)}\")\n",
    "# Get the first table\n",
    "df = df[0]\n",
    "# Get the first 5 rows\n",
    "# df.head()\n",
    "print(df)\n",
    "# Retrieve the first column of the table\n",
    "col = df.iloc[:,1]\n",
    "# Extraft the values from the column\n",
    "col = col.values\n",
    "# print(len(col))\n",
    "# print(col)\n"
   ]
  },
  {
   "cell_type": "code",
   "execution_count": null,
   "metadata": {},
   "outputs": [],
   "source": [
    "# Get the soup of the table link\n",
    "soup = get_soup(table_link)"
   ]
  },
  {
   "cell_type": "code",
   "execution_count": null,
   "metadata": {},
   "outputs": [],
   "source": [
    "# Find all links under \"all_games\" table\n",
    "links = soup.find(id='all_games').find_all('a')"
   ]
  },
  {
   "cell_type": "code",
   "execution_count": null,
   "metadata": {},
   "outputs": [],
   "source": [
    "# Find the hyperlinks to the games of the form \"/boxscores/202110010OTT.html\"\n",
    "links = [link.get('href') for link in soup.find(id='all_games').find_all('a') if \"/boxscores/\" in link.get('href')]\n",
    "# Remove duplicates\n",
    "links = list(set(links))\n",
    "print(links)"
   ]
  },
  {
   "cell_type": "code",
   "execution_count": 96,
   "metadata": {},
   "outputs": [
    {
     "name": "stdout",
     "output_type": "stream",
     "text": [
      "/boxscores/202110160BUF.html\n",
      "Player    TOTAL\n",
      "iCF         NaN\n",
      "SAT‑F        37\n",
      "SAT‑A        53\n",
      "CF%        41.1\n",
      "CRel%       NaN\n",
      "ZSO         NaN\n",
      "ZSD         NaN\n",
      "oZS%       42.8\n",
      "HIT          15\n",
      "BLK          10\n",
      "Name: 18, dtype: object\n",
      "Player    TOTAL\n",
      "iCF         NaN\n",
      "SAT‑F        27\n",
      "SAT‑A        44\n",
      "CF%        38.0\n",
      "CRel%       NaN\n",
      "ZSO         NaN\n",
      "ZSD         NaN\n",
      "oZS%       36.4\n",
      "HIT          13\n",
      "BLK           9\n",
      "Name: 18, dtype: object\n",
      "Player    TOTAL\n",
      "iCF         NaN\n",
      "SAT‑F        31\n",
      "SAT‑A        47\n",
      "CF%        39.7\n",
      "CRel%       NaN\n",
      "ZSO         NaN\n",
      "ZSD         NaN\n",
      "oZS%       40.0\n",
      "HIT          13\n",
      "BLK           9\n",
      "Name: 18, dtype: object\n",
      "Player    TOTAL\n",
      "iCF         NaN\n",
      "SAT‑F         6\n",
      "SAT‑A         1\n",
      "CF%        85.7\n",
      "CRel%       NaN\n",
      "ZSO         NaN\n",
      "ZSD         NaN\n",
      "oZS%      100.0\n",
      "HIT           1\n",
      "BLK           0\n",
      "Name: 18, dtype: object\n",
      "Player    TOTAL\n",
      "iCF         NaN\n",
      "SAT‑F         0\n",
      "SAT‑A         5\n",
      "CF%         0.0\n",
      "CRel%       NaN\n",
      "ZSO         NaN\n",
      "ZSD         NaN\n",
      "oZS%        0.0\n",
      "HIT           1\n",
      "BLK           1\n",
      "Name: 18, dtype: object\n",
      "Player    TOTAL\n",
      "iCF         NaN\n",
      "SAT‑F        27\n",
      "SAT‑A        31\n",
      "CF%        46.6\n",
      "CRel%       NaN\n",
      "ZSO         NaN\n",
      "ZSD         NaN\n",
      "oZS%       40.0\n",
      "HIT           9\n",
      "BLK           5\n",
      "Name: 18, dtype: object\n",
      "Player    TOTAL\n",
      "iCF         NaN\n",
      "SAT‑F        20\n",
      "SAT‑A        25\n",
      "CF%        44.4\n",
      "CRel%       NaN\n",
      "ZSO         NaN\n",
      "ZSD         NaN\n",
      "oZS%       33.3\n",
      "HIT           7\n",
      "BLK           4\n",
      "Name: 18, dtype: object\n"
     ]
    }
   ],
   "source": [
    "#https://www.hockey-reference.com/boxscores/202110120TBL.html\n",
    "print(links[0])\n",
    "game_soup = get_soup(\"https://www.hockey-reference.com\"+links[0])\n",
    "tables = game_soup.find_all('table',id=re.compile(r'(\\w+)_skaters'))#|(\\w+)_goalies')) # NORMAL TABLES\n",
    "ADVANCED_KEYS = [\"ALLAll\",\"ALL5v5\",\"ALLEV\",\"ALLPP\",\"ALLSH\",\"CLAll\",\"CL5v5\"]\n",
    "advanced_tables = []\n",
    "for advanced_key in ADVANCED_KEYS:\n",
    "    advanced_tables.append(game_soup.find_all('table',id=re.compile(r'(\\w+)_'+advanced_key)))\n",
    "# tables = game_soup.find_all('table',id=re.compile(r'(\\w+)_adv_ALLAll')) # ADVANCED TABLES\n",
    "# for table in tables:\n",
    "#     print(str(table))\n",
    "ids = re.compile(r'(\\w+)_adv_ALLAll')\n",
    "\n",
    "# for table in tables:\n",
    "#     print(ids.findall(str(table))[0])\n",
    "for adv_table in advanced_tables:\n",
    "    df = pd.read_html(str(adv_table[0]))[0].iloc[-1,:]\n",
    "    print(df)\n",
    "    df.to_dict().pop(\"Player\")\n",
    "\n",
    "# %timeit ids.findall(str(tables[0]))[0]"
   ]
  },
  {
   "cell_type": "code",
   "execution_count": 92,
   "metadata": {},
   "outputs": [
    {
     "name": "stdout",
     "output_type": "stream",
     "text": [
      "2\n"
     ]
    }
   ],
   "source": [
    "print(len(advanced_tables[0]))"
   ]
  },
  {
   "cell_type": "code",
   "execution_count": 98,
   "metadata": {},
   "outputs": [
    {
     "name": "stdout",
     "output_type": "stream",
     "text": [
      "2\n"
     ]
    }
   ],
   "source": [
    "# Read the tables with pandas\n",
    "tables = [pd.read_html(str(table))[0] for table in tables]\n",
    "print(len(tables))"
   ]
  },
  {
   "cell_type": "code",
   "execution_count": 115,
   "metadata": {},
   "outputs": [
    {
     "name": "stdout",
     "output_type": "stream",
     "text": [
      "Unnamed: 0_level_0   Rk          NaN\n",
      "Unnamed: 1_level_0   Player    TOTAL\n",
      "Scoring              G             1\n",
      "                     A             2\n",
      "                     PTS           3\n",
      "Unnamed: 5_level_0   +/-         NaN\n",
      "Unnamed: 6_level_0   PIM           4\n",
      "Goals                EV            0\n",
      "                     PP            1\n",
      "                     SH            0\n",
      "                     GW          NaN\n",
      "Assists              EV          NaN\n",
      "                     PP          NaN\n",
      "                     SH          NaN\n",
      "Unnamed: 14_level_0  S            33\n",
      "Unnamed: 15_level_0  S%          3.0\n",
      "Unnamed: 16_level_0  SHFT        NaN\n",
      "Unnamed: 17_level_0  TOI         NaN\n",
      "Name: 19, dtype: object\n",
      "{('Unnamed: 0_level_0', 'Rk'): nan, ('Unnamed: 1_level_0', 'Player'): 'TOTAL', ('Unnamed: 5_level_0', '+/-'): nan, ('Unnamed: 6_level_0', 'PIM'): 4, ('Goals', 'EV'): 0, ('Goals', 'PP'): 1, ('Goals', 'SH'): 0, ('Goals', 'GW'): nan, ('Unnamed: 14_level_0', 'S'): 33, ('Unnamed: 15_level_0', 'S%'): 3.0, ('Unnamed: 16_level_0', 'SHFT'): nan, ('Unnamed: 17_level_0', 'TOI'): nan}\n",
      "{'TOT_Rk': nan, 'TOT_Player': 'TOTAL', 'TOT_+/-': nan, 'TOT_PIM': 4, 'TOT_EV': 0, 'TOT_PP': 1, 'TOT_SH': 0, 'TOT_GW': nan, 'TOT_S': 33, 'TOT_S%': 3.0, 'TOT_SHFT': nan, 'TOT_TOI': nan}\n",
      "{'TOT_Rk': nan, 'TOT_Player': 'TOTAL', 'TOT_+/-': nan, 'TOT_PIM': 4, 'TOT_EV': 0, 'TOT_PP': 1, 'TOT_SH': 0, 'TOT_GW': nan, 'TOT_S': 33, 'TOT_S%': 0.03, 'TOT_SHFT': nan, 'TOT_TOI': nan}\n",
      "{'TOT_Rk': nan, 'TOT_+/-': nan, 'TOT_PIM': 4, 'TOT_EV': 0, 'TOT_PP': 1, 'TOT_SH': 0, 'TOT_GW': nan, 'TOT_S': 33, 'TOT_S%': 0.03, 'TOT_SHFT': nan, 'TOT_TOI': nan}\n"
     ]
    }
   ],
   "source": [
    "print(tables[1].iloc[-1,:])\n",
    "key = \"TOT\"\n",
    "d = tables[1].iloc[-1,:]\n",
    "# Remove Assists\n",
    "d.pop(\"Assists\")\n",
    "d.pop(\"Scoring\")\n",
    "d = d.to_dict()\n",
    "print(d)\n",
    "# Replace keys with key_name\n",
    "d = {key+\"_\"+k if not isinstance(k,tuple) else key+\"_\"+k[-1]:v if v!=v else v for k,v in d.items()}\n",
    "# d = {k:0 if v!=v else v for k,v in d.items()}\n",
    "print(d)\n",
    "d = {k:v/100 if k.endswith(\"%\") else v for k,v in d.items()}\n",
    "print(d)\n",
    "d.pop(key+'_Player')\n",
    "print(d)\n",
    "# Replace all nan with 0\n",
    "# print(tables[1].iloc[-1,:][\"Unnamed: 14_level_0\"][\"S\"])\n",
    "# print(tables[0].iloc[-1,:][\"Unnamed: 14_level_0\"][\"S\"])\n"
   ]
  },
  {
   "cell_type": "code",
   "execution_count": null,
   "metadata": {},
   "outputs": [],
   "source": []
  }
 ],
 "metadata": {
  "kernelspec": {
   "display_name": "venv",
   "language": "python",
   "name": "python3"
  },
  "language_info": {
   "codemirror_mode": {
    "name": "ipython",
    "version": 3
   },
   "file_extension": ".py",
   "mimetype": "text/x-python",
   "name": "python",
   "nbconvert_exporter": "python",
   "pygments_lexer": "ipython3",
   "version": "3.9.7"
  },
  "orig_nbformat": 4,
  "vscode": {
   "interpreter": {
    "hash": "44d6bc46eaa87303ea9afae9d1c4bb0fd09a08cd6fb9bbf50036cd7506091deb"
   }
  }
 },
 "nbformat": 4,
 "nbformat_minor": 2
}
